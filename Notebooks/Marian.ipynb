{
 "cells": [
  {
   "cell_type": "code",
   "execution_count": null,
   "metadata": {},
   "outputs": [
    {
     "name": "stderr",
     "output_type": "stream",
     "text": [
      "c:\\Users\\Lenovo\\anaconda3\\lib\\site-packages\\transformers\\tokenization_utils_base.py:1617: FutureWarning: `clean_up_tokenization_spaces` was not set. It will be set to `True` by default. This behavior will be deprecated in transformers v4.45, and will be then set to `False` by default. For more details check this issue: https://github.com/huggingface/transformers/issues/31884\n",
      "  warnings.warn(\n"
     ]
    },
    {
     "name": "stdout",
     "output_type": "stream",
     "text": [
      "I'm in love with my mother.\n"
     ]
    }
   ],
   "source": [
    "from transformers import MarianMTModel, MarianTokenizer # type: ignore\n",
    "\n",
    "# Load the MarianMT model and tokenizer for Arabic-to-English translation\n",
    "model_name = 'Helsinki-NLP/opus-mt-ar-en'\n",
    "model = MarianMTModel.from_pretrained(model_name)\n",
    "tokenizer = MarianTokenizer.from_pretrained(model_name)\n",
    "\n",
    "# Ask the user to input Arabic text\n",
    "input_text = input(\"Please enter Arabic text for translation: \") # انا بحب امي \n",
    "\n",
    "def translate_text(text: str):   \n",
    "    # Tokenize the input text\n",
    "    tokenized_input = tokenizer(input_text, return_tensors=\"pt\", padding=True)\n",
    "\n",
    "    # Generate the translation\n",
    "    translated_tokens = model.generate(**tokenized_input)\n",
    "\n",
    "    # Decode the translated text\n",
    "    translated_text = tokenizer.decode(translated_tokens[0], skip_special_tokens=True)\n",
    "    print(translated_text)\n",
    "    return translated_text\n",
    "\n",
    "translate_text(input_text)"
   ]
  },
  {
   "cell_type": "code",
   "execution_count": 2,
   "metadata": {},
   "outputs": [
    {
     "name": "stdout",
     "output_type": "stream",
     "text": [
      "I want to play.\n"
     ]
    }
   ],
   "source": [
    "# Ask the user to input Arabic text\n",
    "input_text = input(\"Please enter Arabic text for translation: \") # انا اريد ان العب\n",
    "\n",
    "translate_text(input_text)"
   ]
  },
  {
   "cell_type": "code",
   "execution_count": 8,
   "metadata": {},
   "outputs": [
    {
     "data": {
      "text/plain": [
       "('Marian_Tokenizer\\\\tokenizer_config.json',\n",
       " 'Marian_Tokenizer\\\\special_tokens_map.json',\n",
       " 'Marian_Tokenizer\\\\vocab.json',\n",
       " 'Marian_Tokenizer\\\\source.spm',\n",
       " 'Marian_Tokenizer\\\\target.spm',\n",
       " 'Marian_Tokenizer\\\\added_tokens.json')"
      ]
     },
     "execution_count": 8,
     "metadata": {},
     "output_type": "execute_result"
    }
   ],
   "source": [
    "model.save_pretrained(\"Marian_Model\")\n",
    "tokenizer.save_pretrained(\"Marian_Tokenizer\")"
   ]
  },
  {
   "cell_type": "code",
   "execution_count": null,
   "metadata": {},
   "outputs": [],
   "source": []
  }
 ],
 "metadata": {
  "kernelspec": {
   "display_name": "base",
   "language": "python",
   "name": "python3"
  },
  "language_info": {
   "codemirror_mode": {
    "name": "ipython",
    "version": 3
   },
   "file_extension": ".py",
   "mimetype": "text/x-python",
   "name": "python",
   "nbconvert_exporter": "python",
   "pygments_lexer": "ipython3",
   "version": "3.9.19"
  }
 },
 "nbformat": 4,
 "nbformat_minor": 2
}
